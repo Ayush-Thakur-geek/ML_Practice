{
  "nbformat": 4,
  "nbformat_minor": 0,
  "metadata": {
    "colab": {
      "provenance": [],
      "authorship_tag": "ABX9TyN7K5jSNG7PNVa/15OpMNGV",
      "include_colab_link": true
    },
    "kernelspec": {
      "name": "python3",
      "display_name": "Python 3"
    },
    "language_info": {
      "name": "python"
    }
  },
  "cells": [
    {
      "cell_type": "markdown",
      "metadata": {
        "id": "view-in-github",
        "colab_type": "text"
      },
      "source": [
        "<a href=\"https://colab.research.google.com/github/Ayush-Thakur-geek/ML_Practice/blob/master/linear_regression_hardcode.ipynb\" target=\"_parent\"><img src=\"https://colab.research.google.com/assets/colab-badge.svg\" alt=\"Open In Colab\"/></a>"
      ]
    },
    {
      "cell_type": "code",
      "execution_count": null,
      "metadata": {
        "id": "L12gOL0kwX0E"
      },
      "outputs": [],
      "source": [
        "# y = mx + c\n",
        "# m = (_x*_y - _(x*y)) / ((_x)**2 - _(x**2)), here _ is used to represent mean.\n",
        "# c = _y - m*_x"
      ]
    },
    {
      "cell_type": "code",
      "source": [
        "from statistics import mean\n",
        "import numpy as np\n",
        "import matplotlib.pyplot as plt\n",
        "from matplotlib import style\n",
        "\n",
        "style.use('fivethirtyeight')"
      ],
      "metadata": {
        "id": "n34vvKBEz9pd"
      },
      "execution_count": 1,
      "outputs": []
    },
    {
      "cell_type": "code",
      "source": [
        "xs = np.array([1,2,3,4,5,6], dtype=np.float64)\n",
        "ys = np.array([5,4,6,5,6,7], dtype=np.float64)"
      ],
      "metadata": {
        "id": "qmQ3SRMf0m9_"
      },
      "execution_count": 2,
      "outputs": []
    },
    {
      "cell_type": "code",
      "source": [
        "def best_fit_slope_and_intercept(xs : np.array, ys : np.array) -> tuple[float, float]:\n",
        "  m = (mean(xs) * mean(ys) - mean(xs * ys)) / ((mean(xs))**2 - (mean(xs**2)))\n",
        "  b = mean(ys) - m * mean(xs)\n",
        "  return m, b"
      ],
      "metadata": {
        "id": "3VIfUcIY04vA"
      },
      "execution_count": 5,
      "outputs": []
    },
    {
      "cell_type": "code",
      "source": [
        "m,b = best_fit_slope_and_intercept(xs, ys)\n",
        "print(m, b)"
      ],
      "metadata": {
        "colab": {
          "base_uri": "https://localhost:8080/"
        },
        "id": "Tq3zKhyL1bXB",
        "outputId": "76f6bdd6-1dd5-413f-b151-657bf6719468"
      },
      "execution_count": 6,
      "outputs": [
        {
          "output_type": "stream",
          "name": "stdout",
          "text": [
            "0.42857142857142866 4.0\n"
          ]
        }
      ]
    },
    {
      "cell_type": "code",
      "source": [
        "regression_line = [(m*x)+b for x in xs]\n",
        "plt.scatter(xs, ys)\n",
        "predict_x = 8\n",
        "predict_y = (m*predict_x)+b\n",
        "plt.scatter(predict_x, predict_y, s=100, color='g')\n",
        "plt.plot(xs, regression_line)\n",
        "plt.show()"
      ],
      "metadata": {
        "colab": {
          "base_uri": "https://localhost:8080/",
          "height": 449
        },
        "id": "Bjh_fTCGrfM7",
        "outputId": "49c2d118-bc8a-4550-d0db-73e8a00018ba"
      },
      "execution_count": 7,
      "outputs": [
        {
          "output_type": "display_data",
          "data": {
            "text/plain": [
              "<Figure size 640x480 with 1 Axes>"
            ],
            "image/png": "[encoded data removed]"
          },
          "metadata": {}
        }
      ]
    },
    {
      "cell_type": "code",
      "source": [
        "# r**2 = 1 - SE<y>/SE_y //formula for r squared or coefficient of determination\n",
        "#                         where SE<y> is squared error for predicted line and\n",
        "#                         SE_y is squared error for the mean based line.\n",
        "\n",
        "def squared_error(ys_orig, ys_line):\n",
        "  return sum((ys_line - ys_orig)**2)"
      ],
      "metadata": {
        "id": "8qe9iZXrwVpl"
      },
      "execution_count": 8,
      "outputs": []
    },
    {
      "cell_type": "code",
      "source": [
        "print(regression_line)"
      ],
      "metadata": {
        "colab": {
          "base_uri": "https://localhost:8080/"
        },
        "id": "PxCwTpTh8hNj",
        "outputId": "fd6d19ae-38cf-4ce2-ed50-3eaf3ce6e902"
      },
      "execution_count": 9,
      "outputs": [
        {
          "output_type": "stream",
          "name": "stdout",
          "text": [
            "[4.428571428571429, 4.857142857142858, 5.2857142857142865, 5.714285714285714, 6.142857142857143, 6.571428571428572]\n"
          ]
        }
      ]
    }
  ]
}