{
 "cells": [
  {
   "cell_type": "code",
   "execution_count": 1,
   "id": "cb749ff3-7495-4740-b14b-a6f52d0e731c",
   "metadata": {},
   "outputs": [
    {
     "name": "stdout",
     "output_type": "stream",
     "text": [
      "      0                            1                     2  \\\n",
      "0  Year  Industry_aggregation_NZSIOC  Industry_code_NZSIOC   \n",
      "1  2023                      Level 1                 99999   \n",
      "2  2023                      Level 1                 99999   \n",
      "3  2023                      Level 1                 99999   \n",
      "4  2023                      Level 1                 99999   \n",
      "\n",
      "                      3                   4              5  \\\n",
      "0  Industry_name_NZSIOC               Units  Variable_code   \n",
      "1        All industries  Dollars (millions)            H01   \n",
      "2        All industries  Dollars (millions)            H04   \n",
      "3        All industries  Dollars (millions)            H05   \n",
      "4        All industries  Dollars (millions)            H07   \n",
      "\n",
      "                                                 6                      7  \\\n",
      "0                                    Variable_name      Variable_category   \n",
      "1                                     Total income  Financial performance   \n",
      "2  Sales, government funding, grants and subsidies  Financial performance   \n",
      "3                Interest, dividends and donations  Financial performance   \n",
      "4                             Non-operating income  Financial performance   \n",
      "\n",
      "        8                                                  9  \n",
      "0   Value                             Industry_code_ANZSIC06  \n",
      "1  930995  ANZSIC06 divisions A-S (excluding classes K633...  \n",
      "2  821630  ANZSIC06 divisions A-S (excluding classes K633...  \n",
      "3   84354  ANZSIC06 divisions A-S (excluding classes K633...  \n",
      "4   25010  ANZSIC06 divisions A-S (excluding classes K633...  \n"
     ]
    }
   ],
   "source": [
    "import pandas as pd\n",
    "\n",
    "file_path = \"Data/annual-enterprise-survey-2023-financial-year-provisional.csv\"\n",
    "data = pd.read_csv(file_path, header=None)\n",
    "print(data.iloc[:5])"
   ]
  },
  {
   "cell_type": "code",
   "execution_count": 5,
   "id": "7b4657e3-d806-43e7-9203-4fe3806919e9",
   "metadata": {},
   "outputs": [
    {
     "name": "stdout",
     "output_type": "stream",
     "text": [
      "Collecting pandas\n",
      "  Downloading pandas-2.2.3-cp312-cp312-manylinux_2_17_x86_64.manylinux2014_x86_64.whl.metadata (89 kB)\n",
      "Collecting numpy>=1.26.0 (from pandas)\n",
      "  Downloading numpy-2.1.2-cp312-cp312-manylinux_2_17_x86_64.manylinux2014_x86_64.whl.metadata (60 kB)\n",
      "Requirement already satisfied: python-dateutil>=2.8.2 in /home/club/my-jupyter-env/lib/python3.12/site-packages (from pandas) (2.9.0.post0)\n",
      "Collecting pytz>=2020.1 (from pandas)\n",
      "  Downloading pytz-2024.2-py2.py3-none-any.whl.metadata (22 kB)\n",
      "Collecting tzdata>=2022.7 (from pandas)\n",
      "  Downloading tzdata-2024.2-py2.py3-none-any.whl.metadata (1.4 kB)\n",
      "Requirement already satisfied: six>=1.5 in /home/club/my-jupyter-env/lib/python3.12/site-packages (from python-dateutil>=2.8.2->pandas) (1.16.0)\n",
      "Downloading pandas-2.2.3-cp312-cp312-manylinux_2_17_x86_64.manylinux2014_x86_64.whl (12.7 MB)\n",
      "\u001b[2K   \u001b[38;2;114;156;31m━━━━━━━━━━━━━━━━━━━━━━━━━━━━━━━━━━━━━━━━\u001b[0m \u001b[32m12.7/12.7 MB\u001b[0m \u001b[31m5.0 MB/s\u001b[0m eta \u001b[36m0:00:00\u001b[0mm eta \u001b[36m0:00:01\u001b[0m0:01\u001b[0m02\u001b[0m\n",
      "\u001b[?25hDownloading numpy-2.1.2-cp312-cp312-manylinux_2_17_x86_64.manylinux2014_x86_64.whl (16.0 MB)\n",
      "\u001b[2K   \u001b[38;2;114;156;31m━━━━━━━━━━━━━━━━━━━━━━━━━━━━━━━━━━━━━━━━\u001b[0m \u001b[32m16.0/16.0 MB\u001b[0m \u001b[31m5.5 MB/s\u001b[0m eta \u001b[36m0:00:00\u001b[0m[36m0:00:01\u001b[0mm eta \u001b[36m0:00:01\u001b[0m\n",
      "\u001b[?25hDownloading pytz-2024.2-py2.py3-none-any.whl (508 kB)\n",
      "Downloading tzdata-2024.2-py2.py3-none-any.whl (346 kB)\n",
      "Installing collected packages: pytz, tzdata, numpy, pandas\n",
      "Successfully installed numpy-2.1.2 pandas-2.2.3 pytz-2024.2 tzdata-2024.2\n"
     ]
    }
   ],
   "source": [
    "!pip install pandas\n"
   ]
  },
  {
   "cell_type": "code",
   "execution_count": 2,
   "id": "25868518-e6f0-4346-98ac-e9141eb5be08",
   "metadata": {},
   "outputs": [],
   "source": [
    "data = pd.read_json(\"Data/sample3.json\")\n",
    "data.to_json(\"output_file.json\")"
   ]
  },
  {
   "cell_type": "code",
   "execution_count": null,
   "id": "fbf89fb1-271e-49ee-8886-1bd3901504f9",
   "metadata": {},
   "outputs": [],
   "source": [
    "import sqlite3 as sq3\n",
    "import pandas as pd\n",
    "\n",
    "path = ('data/Sample_sqlite_database_and_csv_files/sqlite.db')\n",
    "\n",
    "con = sq3"
   ]
  }
 ],
 "metadata": {
  "kernelspec": {
   "display_name": "Python 3 (ipykernel)",
   "language": "python",
   "name": "python3"
  },
  "language_info": {
   "codemirror_mode": {
    "name": "ipython",
    "version": 3
   },
   "file_extension": ".py",
   "mimetype": "text/x-python",
   "name": "python",
   "nbconvert_exporter": "python",
   "pygments_lexer": "ipython3",
   "version": "3.12.7"
  }
 },
 "nbformat": 4,
 "nbformat_minor": 5
}
