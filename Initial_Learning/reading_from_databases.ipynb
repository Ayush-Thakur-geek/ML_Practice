{
 "cells": [
  {
   "cell_type": "code",
   "execution_count": 1,
   "id": "9365eda1",
   "metadata": {},
   "outputs": [
    {
     "name": "stdout",
     "output_type": "stream",
     "text": [
      "   department_id department_name\n",
      "0              1       Executive\n",
      "1              2              HR\n",
      "2              3           Sales\n",
      "3              4     Development\n",
      "4              5         Support\n",
      "5              6        Research\n"
     ]
    }
   ],
   "source": [
    "#sql db\n",
    "\n",
    "import sqlite3 as sq3\n",
    "import pandas as pd\n",
    "\n",
    "path = ('Data/Sample_sqlite_database_and_csv_files/sqlite.db')\n",
    "\n",
    "#Create a connection SQL database\n",
    "con = sq3.Connection(path)\n",
    "\n",
    "#Write query\n",
    "query = \"SELECT * FROM department;\"\n",
    "\n",
    "data = pd.read_sql(query, con)\n",
    "\n",
    "print(data)"
   ]
  },
  {
   "cell_type": "code",
   "execution_count": null,
   "id": "d9b84ab8",
   "metadata": {},
   "outputs": [],
   "source": [
    "#no-sql db\n",
    "\n",
    "from pymongo import MongoClient\n",
    "\n",
    "con = MongoClient\n",
    "\n",
    "database_name = con.list_database_names()\n",
    "\n",
    "db = con.database_name\n",
    "\n",
    "cursor = db.collection_name.find(query)\n",
    "\n",
    "df = pd.DataFrame(list(cursor))"
   ]
  },
  {
   "cell_type": "code",
   "execution_count": null,
   "id": "770fd771",
   "metadata": {},
   "outputs": [],
   "source": []
  }
 ],
 "metadata": {
  "kernelspec": {
   "display_name": "Python 3 (ipykernel)",
   "language": "python",
   "name": "python3"
  },
  "language_info": {
   "codemirror_mode": {
    "name": "ipython",
    "version": 3
   },
   "file_extension": ".py",
   "mimetype": "text/x-python",
   "name": "python",
   "nbconvert_exporter": "python",
   "pygments_lexer": "ipython3",
   "version": "3.12.7"
  }
 },
 "nbformat": 4,
 "nbformat_minor": 5
}
